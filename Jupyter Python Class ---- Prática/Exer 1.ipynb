{
 "cells": [
  {
   "cell_type": "markdown",
   "source": [
    "Aprendendo a usar Jupyter"
   ],
   "metadata": {}
  },
  {
   "cell_type": "code",
   "execution_count": 34,
   "source": [
    "import random"
   ],
   "outputs": [],
   "metadata": {}
  },
  {
   "cell_type": "code",
   "execution_count": 84,
   "source": [
    "def aleatorio():\r\n",
    "    numero = random.randrange(1, 1000)\r\n",
    "    \r\n",
    "    return print(numero)\r\n",
    "\r\n",
    "aleatorio()"
   ],
   "outputs": [
    {
     "output_type": "stream",
     "name": "stdout",
     "text": [
      "914\n"
     ]
    }
   ],
   "metadata": {}
  },
  {
   "cell_type": "code",
   "execution_count": 85,
   "source": [
    "msd = \"Data Science is fun...\""
   ],
   "outputs": [],
   "metadata": {}
  },
  {
   "cell_type": "code",
   "execution_count": 86,
   "source": [
    "msd.lower()"
   ],
   "outputs": [
    {
     "output_type": "execute_result",
     "data": {
      "text/plain": [
       "'data science is fun...'"
      ]
     },
     "metadata": {},
     "execution_count": 86
    }
   ],
   "metadata": {}
  },
  {
   "cell_type": "code",
   "execution_count": 87,
   "source": [
    "msd.upper()"
   ],
   "outputs": [
    {
     "output_type": "execute_result",
     "data": {
      "text/plain": [
       "'DATA SCIENCE IS FUN...'"
      ]
     },
     "metadata": {},
     "execution_count": 87
    }
   ],
   "metadata": {}
  }
 ],
 "metadata": {
  "orig_nbformat": 4,
  "language_info": {
   "name": "python",
   "version": "3.9.7"
  },
  "kernelspec": {
   "name": "python3",
   "display_name": "Python 3.9.7 64-bit ('ambiente_projeto1': venv)"
  },
  "interpreter": {
   "hash": "01623a17227d1ad22f0f90eaab5ae417ce2cff63d5d33f882a0830f4f5f237da"
  }
 },
 "nbformat": 4,
 "nbformat_minor": 2
}
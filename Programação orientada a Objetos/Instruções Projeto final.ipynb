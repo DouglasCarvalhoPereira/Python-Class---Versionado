{
 "cells": [
  {
   "cell_type": "markdown",
   "source": [
    "<h1>Assim que o dicionário estiver pronto esses comandos irão gerar a nuvem de palavras!</h1>\r\n",
    "\r\n",
    "cloud = wordcloud.WordCloud() <br>\r\n",
    "cloud.generate_from_frequencies(frequencies)<br>\r\n",
    "cloud.to_file(\"myfile.jpg\")<br>"
   ],
   "metadata": {}
  },
  {
   "cell_type": "markdown",
   "source": [
    "<h1>Coisas para lembrar. </h1>\r\n",
    "\r\n",
    "<ul>\r\n",
    "\r\n",
    "<li>Antes de processar qualquer texto, você precisa remover todos os sinais de pontuação. Para fazer isso, você pode percorrer cada linha de texto, caractere por caractere, usando o método isalpha () . Isso verificará se o caractere é ou não uma letra.</li>\r\n",
    "\r\n",
    "<li>Para dividir uma linha de texto em palavras, você pode usar o método split ().</li>\r\n",
    "\r\n",
    "<li>Antes de armazenar palavras no dicionário de frequência, verifique se elas fazem parte do conjunto de palavras \"desinteressantes\" (por exemplo: \"a\", \"o\", \"para\", \"se\"). Faça com que este conjunto seja um parâmetro para sua função para que você possa alterá-lo se necessário.</li>\r\n",
    "\r\n",
    "</ul>"
   ],
   "metadata": {}
  },
  {
   "cell_type": "markdown",
   "source": [
    "<h2>Utilizar módulo</h2>\r\n",
    "\r\n",
    "<b><h3>Create World Cloud</h3></b>"
   ],
   "metadata": {}
  }
 ],
 "metadata": {
  "orig_nbformat": 4,
  "language_info": {
   "name": "python",
   "version": "3.9.7",
   "mimetype": "text/x-python",
   "codemirror_mode": {
    "name": "ipython",
    "version": 3
   },
   "pygments_lexer": "ipython3",
   "nbconvert_exporter": "python",
   "file_extension": ".py"
  },
  "kernelspec": {
   "name": "python3",
   "display_name": "Python 3.9.7 64-bit ('ambiente_projeto1': venv)"
  },
  "interpreter": {
   "hash": "01623a17227d1ad22f0f90eaab5ae417ce2cff63d5d33f882a0830f4f5f237da"
  }
 },
 "nbformat": 4,
 "nbformat_minor": 2
}